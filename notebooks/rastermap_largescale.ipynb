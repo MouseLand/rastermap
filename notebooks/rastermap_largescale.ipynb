{
 "cells": [
  {
   "attachments": {},
   "cell_type": "markdown",
   "metadata": {},
   "source": [
    "[![Open In Colab](https://colab.research.google.com/assets/colab-badge.svg)](https://colab.research.google.com/github/MouseLand/rastermap/blob/main/notebooks/rastermap_largescale.ipynb)\n",
    "\n",
    "# Rastermap sorting of 34k neurons\n",
    "\n",
    "We will use a spontaneous activity recording from [Syeda et al, 2023](https://www.biorxiv.org/content/10.1101/2022.11.03.515121v1.abstract). We recorded 34,086 neurons from mouse sensorimotor cortex for 2+ hours using two-photon calcium imaging at a rate of 3.2Hz. FYI to make the download of the dataset faster, we are analyzing only the first half of the recording. During the recording, the mouse was free to run on an air floating ball, and we recorded the mouse face with a camera at a rate of 50Hz and tracked keypoints on the mouse face."
   ]
  },
  {
   "attachments": {},
   "cell_type": "markdown",
   "metadata": {},
   "source": [
    "First we will install the required packages, if not already installed. If on google colab, it will require you to click the \"RESTART RUNTIME\" button because we are updating numpy. Also if you are on google colab, select the GPU runtime if you want to fit the neural network to predict neural activity from behaviors:\n",
    "**Runtime > Change runtime type > Hardware accelerator = GPU**"
   ]
  },
  {
   "cell_type": "code",
   "execution_count": null,
   "metadata": {},
   "outputs": [],
   "source": [
    "!pip install numpy>=1.24 # (required for google colab)\n",
    "!pip install rastermap \n",
    "!pip install matplotlib"
   ]
  },
  {
   "attachments": {},
   "cell_type": "markdown",
   "metadata": {},
   "source": [
    "### Load data and import libraries\n",
    "\n",
    "If not already downloaded, the following cell will automatically download the processed data stored [here](https://osf.io/8xg7n)."
   ]
  },
  {
   "cell_type": "code",
   "execution_count": null,
   "metadata": {},
   "outputs": [],
   "source": [
    "import numpy as np\n",
    "import matplotlib.pyplot as plt\n",
    "# importing rastermap\n",
    "# (this will be slow the first time since it is compiling the numba functions)\n",
    "from rastermap import Rastermap, utils\n",
    "from scipy.stats import zscore\n",
    "\n",
    "# download spontaneous activity\n",
    "filename = utils.download_data(data_type=\"spont2\")\n",
    "\n",
    "dat = np.load(filename)\n",
    "\n",
    "# spks is neurons by time\n",
    "# (each timepoint is 313 ms)\n",
    "spks = dat[\"spks\"]\n",
    "n_neurons, n_time = spks.shape\n",
    "print(f\"{n_neurons} neurons by {n_time} timepoints\")\n",
    "\n",
    "# zscore activity (each neuron activity trace is then mean 0 and standard-deviation 1)\n",
    "spks = zscore(spks, axis=1)\n",
    "\n",
    "# XY position of each neuron in the recording\n",
    "xpos, ypos = dat[\"xpos\"], dat[\"ypos\"]\n",
    "\n",
    "# load the processed behavioral data\n",
    "tcam, tneural = dat[\"tcam\"], dat[\"tneural\"]\n",
    "run, beh, beh_names = dat[\"run\"], dat[\"beh\"], dat[\"beh_names\"]\n",
    "print(\"Behaviors tracked: \")\n",
    "print(beh_names)\n",
    "\n",
    "# colors for the behaviors\n",
    "kp_colors = np.array([[0.55,0.55,0.55], [0.,0.,1],\n",
    "                      [0.8,0,0], [1.,0.4,0.2],\n",
    "                      [0,0.6,0.4], [0.2,1,0.5],\n",
    "                      ])\n"
   ]
  },
  {
   "attachments": {},
   "cell_type": "markdown",
   "metadata": {},
   "source": [
    "### Run Rastermap\n",
    "\n",
    "Let's sort the single neurons with Rastermap, with clustering and upsampling:"
   ]
  },
  {
   "cell_type": "code",
   "execution_count": null,
   "metadata": {},
   "outputs": [],
   "source": [
    "model = Rastermap(n_clusters=100, # number of clusters to compute\n",
    "                  n_PCs=128, # number of PCs to use\n",
    "                  locality=0.75, # locality in sorting to find sequences (this is a value from 0-1)\n",
    "                  time_lag_window=5, # use future timepoints to compute correlation\n",
    "                  grid_upsample=10, # default value, 10 is good for large recordings\n",
    "                ).fit(spks)\n",
    "y = model.embedding # neurons x 1\n",
    "isort = model.isort"
   ]
  },
  {
   "cell_type": "markdown",
   "metadata": {},
   "source": [
    "Let's create superneurons from Rastermap -- we sort the data and then sum over neighboring neurons:"
   ]
  },
  {
   "cell_type": "code",
   "execution_count": null,
   "metadata": {},
   "outputs": [],
   "source": [
    "nbin = 200 # number of neurons to bin over \n",
    "sn = utils.bin1d(spks[isort], bin_size=nbin, axis=0) # bin over neuron axis"
   ]
  },
  {
   "attachments": {},
   "cell_type": "markdown",
   "metadata": {},
   "source": [
    "### Visualization\n",
    "\n",
    "Use the Rastermap sorting to visualize the neural activity:"
   ]
  },
  {
   "cell_type": "code",
   "execution_count": null,
   "metadata": {},
   "outputs": [],
   "source": [
    "# timepoints to visualize\n",
    "xmin = 0 \n",
    "xmax = xmin + 1000\n",
    "\n",
    "# make figure with grid for easy plotting\n",
    "fig = plt.figure(figsize=(12,6), dpi=200)\n",
    "grid = plt.GridSpec(9, 20, figure=fig, wspace = 0.05, hspace = 0.3)\n",
    "\n",
    "# plot running speed\n",
    "ax = plt.subplot(grid[0, :-1])\n",
    "ax.plot(run[xmin:xmax], color=kp_colors[0])\n",
    "ax.set_xlim([0, xmax-xmin])\n",
    "ax.axis(\"off\")\n",
    "ax.set_title(\"running speed\", color=kp_colors[0])\n",
    "\n",
    "# plot superneuron activity\n",
    "ax = plt.subplot(grid[1:, :-1])\n",
    "ax.imshow(sn[:, xmin:xmax], cmap=\"gray_r\", vmin=0, vmax=0.8, aspect=\"auto\")\n",
    "ax.set_xlabel(\"time\")\n",
    "ax.set_ylabel(\"superneurons\")\n",
    "\n",
    "ax = plt.subplot(grid[1:, -1])\n",
    "ax.imshow(np.arange(0, len(sn))[:,np.newaxis], cmap=\"gist_ncar\", aspect=\"auto\")\n",
    "ax.axis(\"off\")"
   ]
  },
  {
   "cell_type": "markdown",
   "metadata": {},
   "source": [
    "Color the neurons by their position in the rastermap:"
   ]
  },
  {
   "cell_type": "code",
   "execution_count": null,
   "metadata": {},
   "outputs": [],
   "source": [
    "plt.figure(figsize=(5, 5))\n",
    "plt.scatter(ypos, xpos, s=1, c=y, cmap=\"gist_ncar\", alpha=0.25)\n",
    "plt.xlabel('X position (um)')\n",
    "plt.ylabel('Y position (um)')\n",
    "plt.axis(\"square\")"
   ]
  },
  {
   "cell_type": "markdown",
   "metadata": {},
   "source": [
    "### Neural activity prediction from behavior\n",
    "\n",
    "We can use the neural network from [Syeda et al, 2023](https://www.biorxiv.org/content/10.1101/2022.11.03.515121v1.abstract) to predict neural activity from behavior. This will work best if you have a GPU (e.g. on google colab). We will first install the code package with the neural network:"
   ]
  },
  {
   "cell_type": "code",
   "execution_count": null,
   "metadata": {},
   "outputs": [],
   "source": [
    "!pip install neuropop"
   ]
  },
  {
   "cell_type": "markdown",
   "metadata": {},
   "source": [
    "We will predict the principal components of the neural activity (there are too many single neurons to predict):"
   ]
  },
  {
   "cell_type": "code",
   "execution_count": null,
   "metadata": {},
   "outputs": [],
   "source": [
    "from sklearn.decomposition import TruncatedSVD\n",
    "\n",
    "# this function returns the left singular vectors scaled by the singular values\n",
    "Vsv = TruncatedSVD(n_components = 128).fit_transform(spks.T)\n",
    "\n",
    "# compute the other singular vectors\n",
    "U = spks @ (Vsv / (Vsv**2).sum(axis=0)**0.5)\n",
    "U /= (U**2).sum(axis=0)**0.5"
   ]
  },
  {
   "cell_type": "markdown",
   "metadata": {},
   "source": [
    "Now let's create the neural network to fit:"
   ]
  },
  {
   "cell_type": "code",
   "execution_count": null,
   "metadata": {},
   "outputs": [],
   "source": [
    "from neuropop import nn_prediction\n",
    "import torch\n",
    "\n",
    "# ideally we have a GPU we can use (\"cuda\" option)\n",
    "device = torch.device(\"cuda\")\n",
    "\n",
    "# declare the model\n",
    "pred_model = nn_prediction.PredictionNetwork(n_in=beh.shape[-1], n_kp=22, \n",
    "                                             n_out=Vsv.shape[-1])\n",
    "# put model on the GPU\n",
    "pred_model.to(device);\n",
    "\n",
    "print(pred_model)"
   ]
  },
  {
   "cell_type": "markdown",
   "metadata": {},
   "source": [
    "Train the neural network:"
   ]
  },
  {
   "cell_type": "code",
   "execution_count": null,
   "metadata": {},
   "outputs": [],
   "source": [
    "y_pred_all, ve_all, itest = pred_model.train_model(beh, Vsv, tcam, tneural, delay=-1,\n",
    "                                                        learning_rate=1e-3, n_iter=400,\n",
    "                                                    device=device, verbose=True)\n",
    "Vpred_nl = y_pred_all\n",
    "itest = itest.flatten() # we run using batches of data so we now flatten it\n",
    "\n",
    "# variance explained per PC\n",
    "residual = ((Vpred_nl - Vsv[itest])**2).sum(axis=0)\n",
    "varexp_PC_nl = 1 - residual / (Vsv[itest]**2).sum(axis=0)"
   ]
  },
  {
   "cell_type": "markdown",
   "metadata": {},
   "source": [
    "Compute the prediction for the superneurons:"
   ]
  },
  {
   "cell_type": "code",
   "execution_count": null,
   "metadata": {},
   "outputs": [],
   "source": [
    "# principal components for superneurons:\n",
    "U_sn = utils.bin1d(U[isort], bin_size=nbin, axis=0)\n",
    "\n",
    "# use U_sn to project from prediction of PCs to superneurons\n",
    "sn_pred = U_sn @ Vpred_nl.T"
   ]
  },
  {
   "cell_type": "markdown",
   "metadata": {},
   "source": [
    "Visualize the behavioral prediction on test data:"
   ]
  },
  {
   "cell_type": "code",
   "execution_count": null,
   "metadata": {},
   "outputs": [],
   "source": [
    "fig = plt.figure(figsize=(12, 9), dpi=200)\n",
    "grid = plt.GridSpec(13, 1, figure=fig, wspace = 0.35, hspace = 0.6)\n",
    "\n",
    "# plot running speed\n",
    "ax = plt.subplot(grid[0, 0])\n",
    "ax.plot(run[itest][xmin:xmax], color=kp_colors[0])\n",
    "ax.set_xlim([0, xmax-xmin])\n",
    "ax.axis(\"off\")\n",
    "ax.set_title(\"running speed\", color=kp_colors[0])\n",
    "\n",
    "# plot superneuron activity\n",
    "ax = plt.subplot(grid[1:7, 0])\n",
    "ax.imshow(sn[:, itest][:, xmin:xmax], cmap=\"gray_r\", vmin=0, vmax=0.85, aspect=\"auto\")\n",
    "ax.set_ylabel(\"superneurons\")\n",
    "ax.set_xticks([])\n",
    "ax.set_title(\"neural activity\")\n",
    "\n",
    "# plot superneuron prediction\n",
    "ax = plt.subplot(grid[7:, 0])\n",
    "ax.imshow(sn_pred[:, xmin:xmax], cmap=\"gray_r\", vmin=0, vmax=0.85, aspect=\"auto\")\n",
    "ax.set_xlabel(\"time\")\n",
    "ax.set_ylabel(\"superneurons\")\n",
    "ax.set_title(\"behavior prediction\")"
   ]
  },
  {
   "attachments": {},
   "cell_type": "markdown",
   "metadata": {},
   "source": [
    "### Settings\n",
    "\n",
    "You can see all the rastermap settings with `Rastermap?`"
   ]
  },
  {
   "cell_type": "code",
   "execution_count": null,
   "metadata": {},
   "outputs": [],
   "source": [
    "Rastermap?"
   ]
  },
  {
   "attachments": {},
   "cell_type": "markdown",
   "metadata": {},
   "source": [
    "### Outputs\n",
    "\n",
    "All the attributes assigned to the Rastermap `model` are listed with `Rastermap.fit?`"
   ]
  },
  {
   "cell_type": "code",
   "execution_count": null,
   "metadata": {},
   "outputs": [],
   "source": [
    "Rastermap.fit?"
   ]
  }
 ],
 "metadata": {
  "kernelspec": {
   "display_name": "Python 3.9.16 ('rastermap')",
   "language": "python",
   "name": "python3"
  },
  "language_info": {
   "codemirror_mode": {
    "name": "ipython",
    "version": 3
   },
   "file_extension": ".py",
   "mimetype": "text/x-python",
   "name": "python",
   "nbconvert_exporter": "python",
   "pygments_lexer": "ipython3",
   "version": "3.9.16"
  },
  "orig_nbformat": 4,
  "vscode": {
   "interpreter": {
    "hash": "998540cc2fc2836a46e99cd3ca3c37c375205941b23fd1eb4b203c48f2be758f"
   }
  }
 },
 "nbformat": 4,
 "nbformat_minor": 2
}
