{
 "cells": [
  {
   "cell_type": "markdown",
   "metadata": {},
   "source": [
    "# DMFC recordings in macaque (Sohn, Narain et al 2019)\n",
    "\n",
    "original data-loading notebook from: https://neurallatents.github.io/datasets#dmfcrsg"
   ]
  },
  {
   "cell_type": "code",
   "execution_count": null,
   "metadata": {},
   "outputs": [],
   "source": [
    "## Download dataset and required packages if necessary\n",
    "!pip install git+https://github.com/neurallatents/nlb_tools.git\n",
    "!pip install dandi\n",
    "!dandi download https://gui.dandiarchive.org/#/dandiset/000130"
   ]
  },
  {
   "cell_type": "markdown",
   "metadata": {},
   "source": [
    "load dataset"
   ]
  },
  {
   "cell_type": "code",
   "execution_count": null,
   "metadata": {},
   "outputs": [],
   "source": [
    "import sys\n",
    "import numpy as np\n",
    "import pandas as pd\n",
    "import matplotlib.pyplot as plt\n",
    "from nlb_tools.nwb_interface import NWBDataset\n",
    "from scipy.stats import zscore\n",
    "\n",
    "sys.path.insert(0, \"/github/rastermap/paper\")\n",
    "import fig5\n",
    "\n",
    "# path to directory with data etc\n",
    "### *** CHANGE THIS TO WHEREEVER YOU ARE SAVING YOUR DATA OUTPUTS ***\n",
    "root = \"/media/carsen/ssd2/rastermap_paper/\"\n",
    "\n",
    "## Load dataset\n",
    "dataset = NWBDataset(\"000130/sub-Haydn/\", \"*train\", split_heldout=False)\n",
    "\n",
    "# bin at 20ms\n",
    "dataset.resample(20)\n",
    "\n",
    "# convert neural times from nanoseconds to seconds \n",
    "neural_time = (dataset.data.index.to_numpy() / 1e3).astype(\"float\") / 1e6\n",
    "\n",
    "# convert task times from nanoseconds to seconds for valid trials\n",
    "# (valid trials = set_time at least 3 second after start of exp and before end of exp)\n",
    "igood = ~dataset.trial_info.ready_time.isna()\n",
    "igood *= ~dataset.trial_info.set_time.isna()\n",
    "igood *= ~dataset.trial_info.go_time.isna()\n",
    "\n",
    "ready_time = (dataset.trial_info.ready_time.to_numpy() / 1e3).astype(\"float\") / 1e6\n",
    "set_time = (dataset.trial_info.set_time.to_numpy() / 1e3).astype(\"float\") / 1e6\n",
    "go_time = (dataset.trial_info.go_time.to_numpy() / 1e3).astype(\"float\") / 1e6\n",
    "\n",
    "nt_sec = 3\n",
    "igood *= (set_time - nt_sec) > 0\n",
    "igood *= (set_time + nt_sec - neural_time[-1]) < 0\n",
    "\n",
    "ready_time = ready_time[igood]\n",
    "set_time = set_time[igood]\n",
    "go_time = go_time[igood]\n",
    "is_short = dataset.trial_info.is_short.to_numpy()[igood]\n",
    "is_eye = dataset.trial_info.is_eye.to_numpy()[igood]\n",
    "iti = dataset.trial_info.iti.to_numpy()[igood]\n",
    "\n",
    "print(f\"number of trials: {len(set_time)}\")\n",
    "\n",
    "print(len(is_eye), len(is_short))\n",
    "\n",
    "# some spike timebins are NaN, replace with nearby values\n",
    "spks = dataset.data.to_numpy().T.copy()\n",
    "spks = spks.astype(\"float32\")\n",
    "ibad = np.isnan(spks[0])\n",
    "nbad = np.arange(0, spks.shape[-1])[~ibad]\n",
    "ibad = np.nonzero(ibad)[0]\n",
    "ireplace = np.array([nbad[np.abs(nbad - ibad[i]).argmin()] for i in range(len(ibad))])\n",
    "spks[:, ibad] = spks[:, ireplace]\n",
    "print(spks.shape)"
   ]
  },
  {
   "cell_type": "markdown",
   "metadata": {},
   "source": [
    "### run rastermap"
   ]
  },
  {
   "cell_type": "code",
   "execution_count": null,
   "metadata": {},
   "outputs": [],
   "source": [
    "from rastermap import Rastermap\n",
    "model = Rastermap(n_clusters=None, # None turns off clustering and sorts single neurons\n",
    "                  n_PCs=48, # use fewer PCs than neurons\n",
    "                  locality=0.5, # some locality in sorting (this is a value from 0-1)\n",
    "                  time_lag_window=20, # use future timepoints to compute correlation\n",
    "                  grid_upsample=0, # 0 turns off upsampling since we're using single neurons\n",
    "                  mean_time=True,\n",
    "                  bin_size=1,\n",
    "                  time_bin=1\n",
    "                ).fit(spks, compute_X_embedding=True)\n",
    "y = model.embedding # neurons x 1\n",
    "isort = model.isort"
   ]
  },
  {
   "cell_type": "markdown",
   "metadata": {},
   "source": [
    "reshape spks into trials"
   ]
  },
  {
   "cell_type": "code",
   "execution_count": null,
   "metadata": {},
   "outputs": [],
   "source": [
    "set_idx = np.array([np.abs(neural_time - set_time[i]).argmin() for i in range(len(set_time))])\n",
    "nt = int(nt_sec/.02)\n",
    "print(nt)\n",
    "set_idx = np.arange(-nt, nt+1) + set_idx[:,np.newaxis]\n",
    "spks_trials = spks[:, set_idx].copy()\n",
    "\n",
    "\n",
    "# split trials into short and long prior blocks, and by set_time bins\n",
    "ttypes = [is_short, ~is_short]\n",
    "ttypes = [(is_eye)*(is_short), (is_eye)*(~is_short), (~is_eye)*(is_short), (~is_eye)*(~is_short)]\n",
    "bins = list(np.linspace(0.46, 0.85, 6))\n",
    "bins.extend(list(np.arange(0.95, 1.3, 0.1)))\n",
    "sr = np.digitize(set_time - ready_time, bins) - 1\n",
    "ttypes = [sr==i for i in range(9)]\n",
    "ttypes.insert(4, (sr==4)*(is_short))\n",
    "ttypes[5] = (sr==4)*(~is_short)\n",
    "rts = np.array(bins) + 0.05\n",
    "rts = (nt - rts/0.02).astype(\"int\")\n",
    "rts = list(rts)\n",
    "rts.insert(4, rts[4])\n",
    "gts = np.array([(go_time[ttypes[k]] - set_time[ttypes[k]]).mean() for k in range(len(ttypes))])\n",
    "gts = (nt + gts/0.02).astype(\"int\")\n",
    "\n",
    "psths = []\n",
    "for k in range(len(ttypes)):\n",
    "    psths.append(spks_trials[isort][:,ttypes[k]].mean(axis=1))\n",
    "psths = np.array(psths)\n",
    "psths = psths.transpose(1,0,2).reshape(spks.shape[0], -1)\n",
    "psths = zscore(psths, axis=1)\n",
    "psths = psths.reshape(spks.shape[0], len(ttypes), -1).transpose(1,0,2)"
   ]
  },
  {
   "cell_type": "markdown",
   "metadata": {},
   "source": [
    "### make figure"
   ]
  },
  {
   "cell_type": "code",
   "execution_count": null,
   "metadata": {},
   "outputs": [],
   "source": [
    "os.makedirs(os.path.join(root, \"figures/\"), exist_ok=True)\n",
    "fig5.fig5(root, psths, rts, gts, save_figure=True)"
   ]
  }
 ],
 "metadata": {
  "kernelspec": {
   "display_name": "rastermap",
   "language": "python",
   "name": "python3"
  },
  "language_info": {
   "codemirror_mode": {
    "name": "ipython",
    "version": 3
   },
   "file_extension": ".py",
   "mimetype": "text/x-python",
   "name": "python",
   "nbconvert_exporter": "python",
   "pygments_lexer": "ipython3",
   "version": "3.9.16"
  }
 },
 "nbformat": 4,
 "nbformat_minor": 2
}
