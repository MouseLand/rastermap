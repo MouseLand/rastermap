{
 "cells": [
  {
   "cell_type": "code",
   "execution_count": null,
   "id": "02c64150",
   "metadata": {
    "id": "02c64150",
    "outputId": "79cc9655-6aa3-48c1-c6db-04acb272a452"
   },
   "outputs": [],
   "source": [
    "import os, sys\n",
    "\n",
    "# clone rl-baselines3-zoo repo and checkout branch update/hf\n",
    "# !pip install opencv-python # not headless version\n",
    "rl_zoo3_path = \"/github/rl-baselines3-zoo/\"\n",
    "model_folder = os.path.join(rl_zoo3_path, \"rl-trained-agents/\")\n",
    "sys.path.insert(0, rl_zoo3_path)\n",
    "\n",
    "import torch\n",
    "# install torch with cuda support\n",
    "device = torch.device('cuda')\n",
    "num_threads = 16\n",
    "torch.set_num_threads(num_threads)\n",
    "\n",
    "sys.path.insert(0, \"/github/rastermap/paper\")\n",
    "import qrdqn # has functions that wrap rl-baselines3-zoo and stable_baselines3\n",
    "import fig5 \n",
    "\n",
    "# path to directory with data etc\n",
    "### *** CHANGE THIS TO WHEREEVER YOU ARE SAVING YOUR MODEL OUTPUTS ***\n",
    "root = \"/media/carsen/ssd2/rastermap_paper/\"\n",
    "# (in this folder we have a \"simulations\" folder)\n",
    "os.makedirs(os.path.join(root, \"simulations\"), exist_ok=True)\n",
    "\n",
    "env_ids = [\"PongNoFrameskip-v4\", \"SpaceInvadersNoFrameskip-v4\", \n",
    "           \"EnduroNoFrameskip-v4\", \"SeaquestNoFrameskip-v4\"]\n",
    "n_seeds = 10\n"
   ]
  },
  {
   "cell_type": "markdown",
   "id": "3ae4ab6c",
   "metadata": {},
   "source": [
    "### run DQN\n",
    "\n",
    "This code will run the DQN and save the activations for `n_seeds` worth of runs and save to the `simulations` folder."
   ]
  },
  {
   "cell_type": "code",
   "execution_count": null,
   "id": "78e816ab",
   "metadata": {},
   "outputs": [],
   "source": [
    "### IMPORTANT:\n",
    "### need to run one game at a time then restart notebook because hooks stick around\n",
    "# qrdqn.run_qrdqn(model_folder, root, env_id=env_ids[0], n_seeds=n_seeds, device=device)"
   ]
  },
  {
   "cell_type": "markdown",
   "id": "acf413db",
   "metadata": {},
   "source": [
    "### run rastermap and save\n",
    "\n",
    "this function will run rastermap on the activations from each game and save to the `simulations` folder."
   ]
  },
  {
   "cell_type": "code",
   "execution_count": null,
   "id": "860b8722",
   "metadata": {},
   "outputs": [],
   "source": [
    "### process qrdqn outputs\n",
    "for env_id in env_ids:\n",
    "    print(env_id)\n",
    "    qrdqn.sort_spks(root, env_id)"
   ]
  },
  {
   "cell_type": "markdown",
   "id": "4678b1a0",
   "metadata": {},
   "source": [
    "### make figure"
   ]
  },
  {
   "cell_type": "code",
   "execution_count": null,
   "id": "6ab59517",
   "metadata": {
    "id": "6ab59517",
    "outputId": "7dc6125b-ec4a-4983-f6c5-e6b8402fe3a2"
   },
   "outputs": [],
   "source": [
    "# root path has folder \"simulations\" with saved results\n",
    "# will save figures to \"figures\" folder\n",
    "os.makedirs(os.path.join(root, \"figures/\"), exist_ok=True)\n",
    "fig5.fig5(root)"
   ]
  }
 ],
 "metadata": {
  "colab": {
   "name": "atari_pretrained.ipynb",
   "provenance": []
  },
  "kernelspec": {
   "display_name": "Python 3.8.17 ('RL')",
   "language": "python",
   "name": "python3"
  },
  "language_info": {
   "codemirror_mode": {
    "name": "ipython",
    "version": 3
   },
   "file_extension": ".py",
   "mimetype": "text/x-python",
   "name": "python",
   "nbconvert_exporter": "python",
   "pygments_lexer": "ipython3",
   "version": "3.8.17"
  },
  "vscode": {
   "interpreter": {
    "hash": "cdf17a3778e5017f066e6f3db18157f3af3a0506de593e09339227d49ead1beb"
   }
  }
 },
 "nbformat": 4,
 "nbformat_minor": 5
}
