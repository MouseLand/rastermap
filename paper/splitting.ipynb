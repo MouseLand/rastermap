{
 "cells": [
  {
   "cell_type": "code",
   "execution_count": null,
   "metadata": {},
   "outputs": [],
   "source": [
    "import numpy as np\n",
    "import matplotlib.pyplot as plt\n",
    "import sys, os\n",
    "from scipy.stats import zscore \n",
    "\n",
    "from rastermap import Rastermap, utils\n",
    "\n",
    "# path to paper code\n",
    "sys.path.insert(0, \"/github/rastermap/paper\")\n",
    "import simulations, metrics, fig_splitting\n",
    "from loaders import load_visual_data, load_alexnet_data\n",
    "\n",
    "root = \"/media/carsen/ssd2/rastermap_paper/\"\n",
    "\n",
    "os.makedirs(os.path.join(root, \"simulations/\"), exist_ok=True)"
   ]
  },
  {
   "cell_type": "markdown",
   "metadata": {},
   "source": [
    "### 2D simulations"
   ]
  },
  {
   "cell_type": "code",
   "execution_count": null,
   "metadata": {},
   "outputs": [],
   "source": [
    "\n",
    "filename = os.path.join(root, \"simulations\", \"sim2D.npz\")\n",
    "if not os.path.exists(filename):\n",
    "    # create simulated data with intrinsic dimensionality of 2\n",
    "    simulations.make_2D_simulation(filename)\n",
    "\n",
    "dat = np.load(filename)\n",
    "spks = dat[\"spks\"]\n",
    "xi = dat[\"xi\"]\n",
    "\n",
    "### run algorithms\n",
    "model = Rastermap(n_clusters=100, n_splits=0, n_PCs=400).fit(spks, normalize=False)\n",
    "isort0 = model.isort \n",
    "\n",
    "model = Rastermap(n_clusters=100, n_splits=3, n_PCs=400).fit(spks, normalize=False)\n",
    "isort_split = model.isort \n",
    "X_embedding = model.X_embedding\n",
    "\n",
    "perplexities = [[10, 100], [10], [30], [100], [300]]\n",
    "isorts_tsne = []\n",
    "for i, perplexity in enumerate(perplexities):\n",
    "    print(perplexity)\n",
    "    y_tsne = metrics.run_TSNE(model.Usv, perplexities=perplexity, verbose=False)\n",
    "    if i==0:\n",
    "        isort_tsne = y_tsne[:,0].argsort()\n",
    "    isorts_tsne.append(y_tsne[:,0].argsort())\n",
    "\n",
    "isorts = [isort0, isort_split, *isorts_tsne]\n",
    "\n",
    "### benchmark\n",
    "knn_score, knn, rhos = simulations.benchmark_2D(xi, isorts)\n",
    "        \n",
    "np.savez(os.path.join(root, \"simulations\", \"sim2D_results.npz\"),\n",
    "         X_embedding=X_embedding, isorts=np.array(isorts), \n",
    "         knn_score=knn_score, knn=knn, rhos=rhos, \n",
    "         xi=xi)"
   ]
  },
  {
   "cell_type": "markdown",
   "metadata": {},
   "source": [
    "### visual cortex data\n",
    "\n",
    "(this data will be shared upon publication)"
   ]
  },
  {
   "cell_type": "code",
   "execution_count": null,
   "metadata": {},
   "outputs": [],
   "source": [
    "filename = os.path.join(root, \"data/\", \"TX61_3x.npz\")\n",
    "stim_filename = os.path.join(root, \"data/\", \"text5k_3x.mat\")\n",
    "\n",
    "out = load_visual_data(filename, stim_filename)\n",
    "spks, istim, stim_times, xpos, ypos, run, ex_stim, img_pca, img_U, Ly, Lx = out\n",
    "\n",
    "# run rastermap \n",
    "model = Rastermap(n_clusters=100, n_splits=3, nc_splits=25, locality=0.,\n",
    "                             n_PCs=400, mean_time=False).fit(spks)\n",
    "isort = model.isort\n",
    "# bin by rastermap\n",
    "n_neurons = len(isort)\n",
    "n_bins = 500\n",
    "bin_size = n_neurons // n_bins\n",
    "X_embedding = zscore(utils.bin1d(spks[isort], bin_size, axis=0), axis=1)\n",
    "\n",
    "# compute stimulus responses sresp and average over the three repeats\n",
    "iss = np.zeros((3,5000), \"int\")\n",
    "for j in range(5000):\n",
    "    iss[:,j] = (istim==j).nonzero()[0][:3]\n",
    "sresp = spks[:, stim_times]\n",
    "sresp = sresp[:, iss].transpose((1,0,2))\n",
    "snr_neurons = (zscore(sresp[0], axis=-1) * zscore(sresp[1], axis=-1)).mean(axis=1)\n",
    "\n",
    "# bin rastermap by neurons\n",
    "n_stim = sresp.shape[-1]\n",
    "n_bins = 500\n",
    "bin_size = n_neurons // n_bins\n",
    "x = sresp[:, isort[:(n_neurons // bin_size) * bin_size]]\n",
    "x = x.reshape(3, -1, bin_size, n_stim).mean(axis=2)\n",
    "n_bins = x.shape[1]\n",
    "snr = (zscore(x[0], axis=-1) * zscore(x[1], axis=-1)).mean(axis=-1)\n",
    "\n",
    "# sort stimuli\n",
    "model2 = Rastermap(n_clusters=100, n_splits=0, locality=0.,\n",
    "                             n_PCs=400).fit(x.T)\n",
    "isort2 = model2.isort\n",
    "\n",
    "# mean over 3 repeats\n",
    "sresp = sresp.mean(axis=0)\n",
    "sresp = zscore(sresp, axis=1)\n",
    "x = x.mean(axis=0)\n",
    "x = zscore(x, axis=-1)\n",
    "\n",
    "# ridge regression from 200 image PCs to 1000 rastermap components\n",
    "itrain = np.arange(5000)%5>0\n",
    "itest  = ~itrain\n",
    "\n",
    "# ridge regression on training data with regularizer of 1e4\n",
    "imgTimg = (img_pca[itrain].T @ img_pca[itrain])/itrain.sum()\n",
    "imgTx   = (img_pca[itrain].T @ x[:, itrain].T)/itrain.sum()\n",
    "B       = np.linalg.solve(imgTimg + 1e4 * np.eye(200), imgTx)\n",
    "\n",
    "# reconstruct the receptive fields from the PCs\n",
    "rfs = B.T @ img_U\n",
    "rfs = np.reshape(rfs, (n_bins, Ly, Lx))\n",
    "\n",
    "# evaluate model on test data\n",
    "rpred = img_pca[itest] @ B\n",
    "cpred = (zscore(rpred.T, 1) * zscore(x[:,itest], 1)).mean(1)\n",
    "\n",
    "print(f\"mean r on test data {cpred.mean()}\")\n",
    "\n",
    "np.savez(os.path.join(root, \"results\", \"v1stimresp_proc.npz\"),\n",
    "         X_embedding=X_embedding, bin_size=bin_size, isort=isort, isort2=isort2, \n",
    "         xpos=xpos, ypos=ypos, x=x,\n",
    "         stim_times=stim_times, run=run, ex_stim=ex_stim, rfs=rfs)"
   ]
  },
  {
   "cell_type": "markdown",
   "metadata": {},
   "source": [
    "### alexnet activations to same images\n",
    "\n",
    "(this data will be shared upon publication)"
   ]
  },
  {
   "cell_type": "code",
   "execution_count": null,
   "metadata": {},
   "outputs": [],
   "source": [
    "filename = os.path.join(root, \"data\", \"ann_fvs_Grayscale(224)_TX61_3X.npz\")\n",
    "sresp, ilayer, ipos, iconv, nmax = load_alexnet_data(filename)\n",
    "\n",
    "# run rastermap\n",
    "model = Rastermap(n_clusters=100, n_splits=3, nc_splits=25, locality=0.,\n",
    "                             n_PCs=400, mean_time=False).fit(sresp)\n",
    "isort = model.isort\n",
    "\n",
    "# bin by rastermap\n",
    "bin_size = 24\n",
    "X_embedding = zscore(utils.bin1d(sresp[isort], bin_size, axis=0), axis=1)\n",
    "\n",
    "# sort stimuli\n",
    "model2 = Rastermap(n_clusters=100, n_splits=0, locality=0.,\n",
    "                             n_PCs=400).fit(X_embedding.T)\n",
    "isort2 = model2.isort\n",
    "\n",
    "np.savez(os.path.join(root, \"results\", \"alexnet_proc.npz\"),\n",
    "         X_embedding=X_embedding, bin_size=bin_size, isort=isort, isort2=isort2,\n",
    "         ilayer=ilayer, ipos=ipos, iconv=iconv, nmax=nmax)"
   ]
  },
  {
   "cell_type": "markdown",
   "metadata": {},
   "source": [
    "### make figures"
   ]
  },
  {
   "cell_type": "code",
   "execution_count": null,
   "metadata": {},
   "outputs": [],
   "source": [
    "# root path has folders \"simulations\" and \"results\" with saved results\n",
    "# will save figures to \"figures\" folder\n",
    "fig = plt.figure(figsize=(14,8/3))\n",
    "grid = plt.GridSpec(1,5, figure=fig, left=0.01, right=0.99, top=0.85, bottom=0.15, \n",
    "                    wspace = 0.15, hspace = 0.25)\n",
    "il = 0\n",
    "d = np.load(os.path.join(root, \"simulations\", \"sim2D_results.npz\"))\n",
    "il = fig_splitting.panels_sim2d(fig, grid, il, **d)\n",
    "\n",
    "fig.savefig(os.path.join(root, \"figures\", \"suppfig_sim2D.pdf\"), dpi=200)\n"
   ]
  },
  {
   "cell_type": "code",
   "execution_count": null,
   "metadata": {},
   "outputs": [],
   "source": [
    "from scipy.io import loadmat\n",
    "\n",
    "fig = plt.figure(figsize=(14, 10))\n",
    "yratio = 14 / 10\n",
    "grid = plt.GridSpec(4,5, figure=fig, left=0.01, right=0.99, top=0.94, bottom=0.07, \n",
    "                    wspace = 0.15, hspace = 0.25)\n",
    "il = 0\n",
    "areas = loadmat(os.path.join(root, \"figures\", \"ctxOutlines.mat\"), \n",
    "                squeeze_me=True)[\"coords\"]\n",
    "d = np.load(os.path.join(root, \"results\", \"v1stimresp_proc.npz\"))\n",
    "il = fig_splitting.panels_v1stimresp(fig, grid, il, yratio, areas, **d, g0=0)\n",
    "\n",
    "d = np.load(os.path.join(root, \"results\", \"alexnet_proc.npz\"))\n",
    "il = fig_splitting.panels_alexnet(fig, grid, il, **d, g0=2)  \n",
    "\n",
    "fig.savefig(os.path.join(root, \"figures\", \"suppfig_visual.pdf\"), dpi=200)\n"
   ]
  }
 ],
 "metadata": {
  "kernelspec": {
   "display_name": "Python 3 (ipykernel)",
   "language": "python",
   "name": "python3"
  },
  "language_info": {
   "codemirror_mode": {
    "name": "ipython",
    "version": 3
   },
   "file_extension": ".py",
   "mimetype": "text/x-python",
   "name": "python",
   "nbconvert_exporter": "python",
   "pygments_lexer": "ipython3",
   "version": "3.9.16"
  },
  "varInspector": {
   "cols": {
    "lenName": 16,
    "lenType": 16,
    "lenVar": 40
   },
   "kernels_config": {
    "python": {
     "delete_cmd_postfix": "",
     "delete_cmd_prefix": "del ",
     "library": "var_list.py",
     "varRefreshCmd": "print(var_dic_list())"
    },
    "r": {
     "delete_cmd_postfix": ") ",
     "delete_cmd_prefix": "rm(",
     "library": "var_list.r",
     "varRefreshCmd": "cat(var_dic_list()) "
    }
   },
   "position": {
    "height": "546px",
    "left": "845px",
    "right": "20px",
    "top": "120px",
    "width": "344px"
   },
   "types_to_exclude": [
    "module",
    "function",
    "builtin_function_or_method",
    "instance",
    "_Feature"
   ],
   "window_display": false
  },
  "vscode": {
   "interpreter": {
    "hash": "998540cc2fc2836a46e99cd3ca3c37c375205941b23fd1eb4b203c48f2be758f"
   }
  }
 },
 "nbformat": 4,
 "nbformat_minor": 2
}
