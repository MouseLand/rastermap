{
 "cells": [
  {
   "cell_type": "code",
   "execution_count": null,
   "metadata": {},
   "outputs": [],
   "source": [
    "import matplotlib.pyplot as plt\n",
    "\n",
    "import numpy as np\n",
    "from scipy.ndimage import gaussian_filter1d\n",
    "from rastermap.svd import SVD\n",
    "import sys, os\n",
    "from rastermap import Rastermap\n",
    "from scipy.stats import zscore\n",
    "from rastermap.utils import bin1d\n",
    "\n",
    "\n",
    "sys.path.insert(0, '/github/rastermap/paper/')\n",
    "import metrics, simulations, fig1\n",
    "\n",
    "root = \"/media/carsen/ssd2/rastermap_paper/\"\n",
    "os.makedirs(os.path.join(root, \"simulations/\"), exist_ok=True)\n"
   ]
  },
  {
   "cell_type": "markdown",
   "metadata": {},
   "source": [
    "### make simulations"
   ]
  },
  {
   "cell_type": "code",
   "execution_count": null,
   "metadata": {},
   "outputs": [],
   "source": [
    "\n",
    "n_per_module = 1000\n",
    "for random_state in range(0, 10):\n",
    "    out = simulations.make_full_simulation(n_per_module=n_per_module, random_state=random_state)\n",
    "    spks, xi_all, stim_times_all, psth, psth_spont, iperm = out\n",
    "    np.savez(os.path.join(root, \"simulations/\", f\"sim_{random_state}.npz\"), \n",
    "                spks=spks, xi_all=xi_all, \n",
    "                stim_times_all=np.array(stim_times_all, dtype=object), \n",
    "                psth=psth, psth_spont=psth_spont, iperm=iperm)\n",
    "\n"
   ]
  },
  {
   "cell_type": "markdown",
   "metadata": {},
   "source": [
    "### run embedding algorithms and benchmark performance"
   ]
  },
  {
   "cell_type": "code",
   "execution_count": null,
   "metadata": {},
   "outputs": [],
   "source": [
    "imp.reload(simulations)\n",
    "simulations.embedding_performance(root, save=True)"
   ]
  },
  {
   "cell_type": "markdown",
   "metadata": {},
   "source": [
    "### make figure"
   ]
  },
  {
   "cell_type": "code",
   "execution_count": null,
   "metadata": {},
   "outputs": [],
   "source": [
    "# root path has folder \"simulations\" with saved results\n",
    "# will save figures to \"figures\" folder\n",
    "os.makedirs(os.path.join(root, \"figures/\"), exist_ok=True)\n",
    "fig1.fig1(root, save_figure=True)   "
   ]
  },
  {
   "cell_type": "code",
   "execution_count": null,
   "metadata": {},
   "outputs": [],
   "source": [
    "#d = 0\n",
    "#div_map = [[5, 42], [43, 108], [109, 136], [136, 170], [176, 200]]\n",
    "#plt.figure(figsize=(12,3))\n",
    "#plt.imshow(X_emb[div_map[d][0] : div_map[d][1],:8000], aspect=\"auto\", vmax=2, vmin=0)"
   ]
  },
  {
   "cell_type": "markdown",
   "metadata": {},
   "source": [
    "### supplementary analyses"
   ]
  },
  {
   "cell_type": "code",
   "execution_count": null,
   "metadata": {},
   "outputs": [],
   "source": [
    "# run t-SNE with different perplexities\n",
    "knn = np.array([10,50,100,200,500])\n",
    "mnn_all = np.zeros((10, 7, len(knn)))\n",
    "rho_all = np.zeros((10, 7))\n",
    "embs_all = np.zeros((10, 7, 6000, 1))\n",
    "scores_all = np.zeros((10, 2, 8, 5))\n",
    "for random_state in range(10):\n",
    "    print(random_state)\n",
    "    dat = np.load(os.path.join(root, \"simulations\", f\"sim_{random_state}.npz\"), allow_pickle=True)\n",
    "    spks = dat[\"spks\"]\n",
    "    # run rastermap to get PCs\n",
    "    model = Rastermap(n_clusters=100, n_PCs=200, locality=0.8,\n",
    "                    time_lag_window=10, time_bin=10).fit(spks)   \n",
    "    perplexities = []\n",
    "    j = 0\n",
    "    for perplexity in [10,30,60,100,200]:\n",
    "        M = metrics.run_TSNE(model.Usv, perplexities=[perplexity])\n",
    "        embs_all[random_state, j] = M\n",
    "        j += 1\n",
    "        perplexities.append([perplexity, 0])\n",
    "        if perplexity > 60:\n",
    "            M = metrics.run_TSNE(model.Usv, perplexities=[30, perplexity])\n",
    "            embs_all[random_state, j] = M\n",
    "            j += 1\n",
    "            perplexities.append([30, perplexity])\n",
    "    contamination_scores, triplet_scores = metrics.benchmarks(dat[\"xi_all\"], embs_all[random_state])\n",
    "    mnn, rho = metrics.embedding_quality_gt(dat[\"xi_all\"], embs_all[random_state], knn=knn.copy())\n",
    "    mnn_all[random_state], rho_all[random_state] = mnn, rho\n",
    "    scores_all[random_state] = np.stack((contamination_scores, triplet_scores), \n",
    "                                            axis=0)\n",
    "    \n",
    "np.savez(os.path.join(root, \"simulations\", \"sim_performance_tsne.npz\"), \n",
    "         embs_all=embs_all, scores_all=scores_all, \n",
    "         mnn_all=mnn_all, rho_all=rho_all, knn=knn,\n",
    "         perplexities=perplexities)"
   ]
  },
  {
   "cell_type": "code",
   "execution_count": null,
   "metadata": {},
   "outputs": [],
   "source": [
    "# run UMAP with different n_neighbors\n",
    "knn = np.array([10,50,100,200,500])\n",
    "n_neighbors = np.array([5, 15, 30, 60, 100, 200])\n",
    "mnn_all = np.zeros((10, 6, len(knn)))\n",
    "rho_all = np.zeros((10, 6))\n",
    "embs_all = np.zeros((10, 6, 6000, 1))\n",
    "scores_all = np.zeros((10, 2, 7, 5))\n",
    "for random_state in range(10):\n",
    "    print(random_state)\n",
    "    dat = np.load(os.path.join(root, \"simulations\", f\"sim_{random_state}.npz\"), allow_pickle=True)\n",
    "    spks = dat[\"spks\"]\n",
    "    # run rastermap to get PCs\n",
    "    model = Rastermap(n_clusters=100, n_PCs=200, locality=0.8,\n",
    "                    time_lag_window=10, time_bin=10).fit(spks)   \n",
    "    j = 0\n",
    "    for nneigh in n_neighbors:\n",
    "        M = metrics.run_UMAP(model.Usv, n_neighbors=nneigh)\n",
    "        embs_all[random_state, j] = M\n",
    "        j += 1\n",
    "        print(j)\n",
    "    contamination_scores, triplet_scores = metrics.benchmarks(dat[\"xi_all\"], embs_all[random_state])\n",
    "    mnn, rho = metrics.embedding_quality_gt(dat[\"xi_all\"], embs_all[random_state], knn=knn.copy())\n",
    "    mnn_all[random_state], rho_all[random_state] = mnn, rho\n",
    "    scores_all[random_state] = np.stack((contamination_scores, triplet_scores), \n",
    "                                            axis=0)\n",
    "    \n",
    "np.savez(os.path.join(root, \"simulations\", \"sim_performance_umap.npz\"), \n",
    "         embs_all=embs_all, scores_all=scores_all, \n",
    "         mnn_all=mnn_all, rho_all=rho_all, knn=knn,\n",
    "         n_neighbors=n_neighbors)"
   ]
  },
  {
   "cell_type": "code",
   "execution_count": null,
   "metadata": {},
   "outputs": [],
   "source": [
    "# compute neighbor scores for original embeddings\n",
    "d2 = np.load(os.path.join(root, \"simulations\", \"sim_performance.npz\"), allow_pickle=True) \n",
    "mnn_all = np.zeros((10, 5, len(knn)))\n",
    "rho_all = np.zeros((10, 5))\n",
    "for random_state in range(10):\n",
    "    dat = np.load(os.path.join(root, \"simulations\", f\"sim_{random_state}.npz\"), allow_pickle=True)\n",
    "    embs = d2[\"embs_all\"][random_state].squeeze()\n",
    "    mnn, rho = metrics.embedding_quality_gt(dat[\"xi_all\"], embs, knn=knn.copy())\n",
    "    mnn_all[random_state], rho_all[random_state] = mnn, rho\n",
    "np.savez(os.path.join(root, \"simulations\", \"sim_performance_neigh.npz\"), \n",
    "         mnn_all=mnn_all, rho_all=rho_all, knn=knn)\n"
   ]
  },
  {
   "cell_type": "code",
   "execution_count": null,
   "metadata": {},
   "outputs": [],
   "source": [
    "fig1.suppfig_scores(root)"
   ]
  }
 ],
 "metadata": {
  "kernelspec": {
   "display_name": "Python 3.9.16 ('rastermap')",
   "language": "python",
   "name": "python3"
  },
  "language_info": {
   "codemirror_mode": {
    "name": "ipython",
    "version": 3
   },
   "file_extension": ".py",
   "mimetype": "text/x-python",
   "name": "python",
   "nbconvert_exporter": "python",
   "pygments_lexer": "ipython3",
   "version": "3.9.16"
  },
  "orig_nbformat": 4,
  "vscode": {
   "interpreter": {
    "hash": "998540cc2fc2836a46e99cd3ca3c37c375205941b23fd1eb4b203c48f2be758f"
   }
  }
 },
 "nbformat": 4,
 "nbformat_minor": 2
}
