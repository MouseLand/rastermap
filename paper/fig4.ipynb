{
 "cells": [
  {
   "cell_type": "code",
   "execution_count": null,
   "metadata": {},
   "outputs": [],
   "source": [
    "import sys, os\n",
    "import numpy as np\n",
    "from scipy.stats import zscore\n",
    "from rastermap import Rastermap, utils\n",
    "from neuropop import linear_prediction\n",
    "\n",
    "# path to paper code\n",
    "sys.path.insert(0, '/github/rastermap/paper')\n",
    "from loaders import (load_widefield_data, load_hippocampus_data, \n",
    "                     load_fish_data, tuning_curves_hipp)\n",
    "import fig4 \n",
    "\n",
    "# path to directory with data etc\n",
    "### *** CHANGE THIS TO WHEREEVER YOU ARE DOWNLOADING THE DATA ***\n",
    "root = \"/media/carsen/ssd2/rastermap_paper/\"\n",
    "# (in this folder we have a \"data\" folder and a \"results\" folder)\n",
    "os.makedirs(os.path.join(root, \"data\"), exist_ok=True)\n",
    "os.makedirs(os.path.join(root, \"results\"), exist_ok=True)\n"
   ]
  },
  {
   "cell_type": "markdown",
   "metadata": {},
   "source": [
    "### hippocampus data\n",
    "\n",
    "We used the spiking data from Grosmark & Buszaki 2016, available [here](https://crcns.org/data-sets/hc/hc-11/about-hc-11). Specifically download the `Achilles_10252013_sessInfo.mat`."
   ]
  },
  {
   "cell_type": "code",
   "execution_count": null,
   "metadata": {},
   "outputs": [],
   "source": [
    "### path to mat file (SPECIFIC FOR YOUR COMPUTER)\n",
    "filename = os.path.join(root, \"data\", \"Achilles_10252013_sessInfo.mat\")\n",
    "\n",
    "# load data\n",
    "bin_sec = 0.2\n",
    "dat = load_hippocampus_data(filename, bin_sec=bin_sec)\n",
    "spks = dat[\"spks\"]\n",
    "spks = zscore(spks, axis=1)\n",
    "n_neurons, n_time = spks.shape \n",
    "pyr_cells = dat[\"pyr_cells\"]\n",
    "loc_signed = dat[\"loc_signed\"]\n",
    "loc2d = dat[\"loc2d\"]\n",
    "speed = (np.diff(loc2d, axis=0)**2).sum(axis=1)**0.5\n",
    "speed = np.concatenate((np.zeros((1,)), speed), axis=0)\n",
    "\n",
    "# compute tuning curves along linear corridor\n",
    "n_pos = 15\n",
    "bins = np.arange(-1, 1+1./n_pos, 1./n_pos)\n",
    "tcurves = tuning_curves_hipp(spks, loc_signed, bins)\n",
    "\n",
    "model = Rastermap(n_clusters=None, \n",
    "                  n_PCs=64, \n",
    "                  locality=0.1,   # 0.1<-include nan's, #0.05 <- interp nan's #0.25 <- remove nan's\n",
    "                  time_lag_window=15,  # 15<- include nan's, #10 <- interp nan's # 20 <- remove nan's\n",
    "                  symmetric=False,\n",
    "                  grid_upsample=0,\n",
    "                  ).fit(spks)\n",
    "isort = model.isort \n",
    "cc_nodes = model.cc\n",
    "\n",
    "np.savez(os.path.join(root, \"results\", \"hippocampus_proc.npz\"),\n",
    "         spks=spks, pyr_cells=pyr_cells, speed=speed, loc2d=loc2d, tcurves=tcurves,\n",
    "         isort=isort, cc_nodes=cc_nodes)\n",
    "         "
   ]
  },
  {
   "cell_type": "markdown",
   "metadata": {},
   "source": [
    "### widefield data\n",
    "\n",
    "We used the widefield data from the Musall*, Kaufman* et al paper [here](https://labshare.cshl.edu/shares/library/repository/38599/Widefield/mSM43/21-Nov-2017/). Specifically download `interpVc.mat`, `Vc.mat` and `regData.mat`. Then the following code will sort the data and compute the neural prediction from the task variables and behaviors."
   ]
  },
  {
   "cell_type": "code",
   "execution_count": null,
   "metadata": {},
   "outputs": [],
   "source": [
    "### path to mat files (SPECIFIC FOR YOUR COMPUTER)\n",
    "expname = \"mSM43_21-Nov-2017\"\n",
    "data_path = os.path.join(root, \"data/\", expname)\n",
    "\n",
    "### load data\n",
    "out = load_widefield_data(data_path)\n",
    "(U0, sv, Vsv, ypos, xpos, regressors, \n",
    "    behav_idx, stim_times, reward_times, stim_labels) = out\n",
    "\n",
    "\n",
    "### run rastermap\n",
    "model = Rastermap(n_clusters=100, locality=0.5, time_lag_window=10,\n",
    "                  n_PCs=U0.shape[1]).fit(Usv = U0 * sv, \n",
    "                                                          Vsv = Vsv)\n",
    "\n",
    "isort = model.isort \n",
    "cc_nodes = model.cc\n",
    "Vsv_sub = model.Vsv\n",
    "\n",
    "bin_size = 200\n",
    "U_sn = utils.bin1d(U0[isort], bin_size=bin_size, axis=0) # bin over voxel axis\n",
    "sn = U_sn @ Vsv_sub.T\n",
    "sn = zscore(sn, axis=1)\n",
    "\n",
    "### predict activity from behavior\n",
    "ve, _, sn_pred, itest = linear_prediction.prediction_wrapper(regressors, sn.T, lam=1e4, delay=0)\n",
    "sn_pred = sn_pred.T\n",
    "itest = itest.flatten()\n",
    "print(ve)\n",
    "ve, _, sn_pred_beh, itest = linear_prediction.prediction_wrapper(regressors[:,behav_idx], sn.T, lam=1e4, delay=0)\n",
    "itest = itest.flatten()\n",
    "sn_pred_beh = sn_pred_beh.T\n",
    "print(ve)\n",
    "\n",
    "np.savez(os.path.join(root, \"results\", \"widefield_proc.npz\"),\n",
    "         stim_times_0=stim_times[0], \n",
    "         stim_times_1=stim_times[1], \n",
    "         stim_times_2=stim_times[2], \n",
    "         stim_times_3=stim_times[3], \n",
    "         stim_labels=stim_labels, reward_times=reward_times, \n",
    "          sn=sn, sn_pred=sn_pred, sn_pred_beh=sn_pred_beh, \n",
    "          bin_size=bin_size, itest=itest, ypos=ypos, xpos=xpos, isort=isort)"
   ]
  },
  {
   "cell_type": "markdown",
   "metadata": {},
   "source": [
    "### zebrafish data\n",
    "\n",
    "We used a neural recording from Chen*, Mu*, Hu*, Kuan* et al 2018, specifically `subject_8` found [here](https://figshare.com/articles/dataset/Whole-brain_light-sheet_imaging_data/7272617?file=13474868). Download the zip file and unzip it (we found this works best with the tool 7zip)."
   ]
  },
  {
   "cell_type": "code",
   "execution_count": null,
   "metadata": {},
   "outputs": [],
   "source": [
    "### folder with \"subject_8\" folder\n",
    "data_path = os.path.join(root, \"data\")\n",
    "\n",
    "spks, F, xyz, stims, swimming, eyepos = load_fish_data(data_path, subject=8)\n",
    "\n",
    "model = Rastermap(n_clusters=100, locality=0.1, time_lag_window=5, n_PCs=200).fit(spks)\n",
    "isort = model.isort \n",
    "cc_nodes = model.cc\n",
    "sn = zscore(utils.bin1d(zscore(spks[isort], axis=1), bin_size=50, axis=0), axis=1)\n",
    "\n",
    "np.savez(os.path.join(root, \"results\", \"fish_proc.npz\"),\n",
    "         swimming=swimming, eyepos=eyepos, stims=stims, \n",
    "         sn=sn, xyz=xyz, isort=isort, cc_nodes=cc_nodes)"
   ]
  },
  {
   "cell_type": "markdown",
   "metadata": {},
   "source": [
    "### make figure"
   ]
  },
  {
   "cell_type": "code",
   "execution_count": null,
   "metadata": {},
   "outputs": [],
   "source": [
    "# root path has folder \"results\" with saved results\n",
    "# will save figures to \"figures\" folder\n",
    "# will ignore panels that aren't processed\n",
    "os.makedirs(os.path.join(root, \"figures/\"), exist_ok=True)\n",
    "fig4.fig4(root)"
   ]
  }
 ],
 "metadata": {
  "kernelspec": {
   "display_name": "Python 3.9.16 ('rastermap')",
   "language": "python",
   "name": "python3"
  },
  "language_info": {
   "codemirror_mode": {
    "name": "ipython",
    "version": 3
   },
   "file_extension": ".py",
   "mimetype": "text/x-python",
   "name": "python",
   "nbconvert_exporter": "python",
   "pygments_lexer": "ipython3",
   "version": "3.9.16"
  },
  "orig_nbformat": 4,
  "vscode": {
   "interpreter": {
    "hash": "998540cc2fc2836a46e99cd3ca3c37c375205941b23fd1eb4b203c48f2be758f"
   }
  }
 },
 "nbformat": 4,
 "nbformat_minor": 2
}
