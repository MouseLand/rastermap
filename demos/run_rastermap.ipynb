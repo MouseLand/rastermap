{
 "cells": [
  {
   "cell_type": "code",
   "execution_count": null,
   "metadata": {},
   "outputs": [],
   "source": [
    "from scipy.stats import zscore\n",
    "from scipy.ndimage import gaussian_filter1d\n",
    "import numpy as np\n",
    "import matplotlib.pyplot as plt\n",
    "from matplotlib import cm\n",
    "from scipy.stats import zscore\n",
    "import os\n",
    "import urllib\n",
    "%matplotlib inline\n",
    "\n",
    "# download 2-photon data (if not already downloaded)\n",
    "if not os.path.isfile('data/mesoscope_activity.npy'):\n",
    "    if not os.path.exists('data'):\n",
    "        os.mkdir('data')\n",
    "    response = urllib.request.urlopen(\n",
    "        'http://www.gatsby.ucl.ac.uk/~cstringer/mesoscope_activity.npy')\n",
    "    f=open('data/mesoscope_activity.npy','wb')\n",
    "    f.write(response.read())\n",
    "    f.close()\n",
    "\n",
    "# load downloaded data\n",
    "dat = np.load('data/mesoscope_activity.npy', allow_pickle=True)\n",
    "dat = dat.item()\n",
    "sp  = dat['spks']\n",
    "sp  = zscore(sp, axis=1)\n",
    "xyloc = dat['xyloc']"
   ]
  },
  {
   "cell_type": "code",
   "execution_count": null,
   "metadata": {},
   "outputs": [],
   "source": [
    "### rastermap algorithm import from github source or package\n",
    "FROM_SOURCE = True\n",
    "PATH_TO_RASTERMAP = 'D:/Github/rastermap/rastermap'\n",
    "\n",
    "if FROM_SOURCE:\n",
    "    import sys\n",
    "    sys.path.append(PATH_TO_RASTERMAP)\n",
    "    import mapping, imp\n",
    "    imp.reload(mapping)\n",
    "    \n",
    "else:\n",
    "    from rastermap import mapping\n",
    "\n",
    "model = mapping.Rastermap(n_components=1).fit(sp)\n",
    "y_model = mapping.Rastermap(n_components=1).fit(sp.T)"
   ]
  },
  {
   "cell_type": "code",
   "execution_count": null,
   "metadata": {},
   "outputs": [],
   "source": [
    "### sort neurons and smooth across neurons and zscore in time\n",
    "isort = model.isort\n",
    "Sm = gaussian_filter1d(sp[isort,:].T, np.minimum(3,int(sp.shape[0]*0.005)), axis=1).T\n",
    "original_Sm = gaussian_filter1d(sp.T, np.minimum(3,int(sp.shape[0]*0.005)), axis=1).T\n",
    "\n",
    "# (optional) smooth in time\n",
    "#Sm = gaussian_filter1d(Sm, 1, axis=1)\n"
   ]
  },
  {
   "cell_type": "code",
   "execution_count": null,
   "metadata": {},
   "outputs": [],
   "source": [
    "### view original spike plot\n",
    "fs = 2.5 # sampling rate of data in Hz\n",
    "splot = original_Sm[::-1,1500:1800]\n",
    "plt.figure(figsize=(16,10))\n",
    "ax=plt.imshow(splot, vmin=0,vmax=1.5,aspect='auto',extent=[0,splot.shape[1]/fs, 0,splot.shape[0]])\n",
    "plt.xlabel('time (s)', fontsize=18)\n",
    "plt.ylabel('neurons', fontsize=18)\n",
    "plt.show()"
   ]
  },
  {
   "cell_type": "code",
   "execution_count": null,
   "metadata": {},
   "outputs": [],
   "source": [
    "### view neuron sorting\n",
    "fs = 2.5 # sampling rate of data in Hz\n",
    "splot = Sm[::-1,1500:1800]\n",
    "plt.figure(figsize=(16,10))\n",
    "ax=plt.imshow(splot, vmin=0,vmax=1.5,aspect='auto',extent=[0,splot.shape[1]/fs, 0,splot.shape[0]])\n",
    "plt.xlabel('time (s)', fontsize=18)\n",
    "plt.ylabel('neurons', fontsize=18)\n",
    "plt.show()"
   ]
  },
  {
   "cell_type": "code",
   "execution_count": null,
   "metadata": {},
   "outputs": [],
   "source": [
    "### view time and neuron sorting\n",
    "fs = 2.5 # sampling rate of data in Hz\n",
    "splot = Sm[::-1, y_model.isort]\n",
    "plt.figure(figsize=(16,10))\n",
    "ax=plt.imshow(splot, vmin=0,vmax=1.5,aspect='auto',extent=[0,splot.shape[1]/fs, 0,splot.shape[0]])\n",
    "plt.xlabel('time (s)', fontsize=18)\n",
    "plt.ylabel('neurons', fontsize=18)\n",
    "plt.show()"
   ]
  },
  {
   "cell_type": "code",
   "execution_count": null,
   "metadata": {},
   "outputs": [],
   "source": [
    "### view positions of cells colored by rastermap\n",
    "\n",
    "# colormap\n",
    "cmap = cm.get_cmap('hsv')\n",
    "cmap = cmap(np.linspace(0.,1,sp.shape[0]))\n",
    "\n",
    "plt.figure(figsize=(8,8))\n",
    "# assign color based on embedding\n",
    "plt.scatter(xyloc[:,0], xyloc[:,1], s=4, color=cmap[isort,:])\n",
    "plt.xlabel('x location (um)')\n",
    "plt.ylabel('y location (um)')\n",
    "plt.show()"
   ]
  }
 ],
 "metadata": {
  "interpreter": {
   "hash": "9ca3fbc02cf5b126c56a3d76bd73adda9254b352ffd773df2d9e2f77042d18df"
  },
  "kernelspec": {
   "display_name": "Python 3.8.10 ('rastermap_38')",
   "language": "python",
   "name": "python3"
  },
  "language_info": {
   "codemirror_mode": {
    "name": "ipython",
    "version": 3
   },
   "file_extension": ".py",
   "mimetype": "text/x-python",
   "name": "python",
   "nbconvert_exporter": "python",
   "pygments_lexer": "ipython3",
   "version": "3.8.10"
  }
 },
 "nbformat": 4,
 "nbformat_minor": 2
}
